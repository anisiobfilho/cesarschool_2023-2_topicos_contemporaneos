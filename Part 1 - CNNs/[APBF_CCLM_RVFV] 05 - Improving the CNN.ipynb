{
 "cells": [
  {
   "cell_type": "markdown",
   "metadata": {},
   "source": [
    "Centro de Estudos e Sistemas Avançados do Recife\n",
    "\n",
    "Pós-graduação em Engenharia e Análise de Dados\n",
    "\n",
    "Disciplina de RNA e Deep Learning\n",
    "\n",
    "Professor: Silvan Ferreira da Silva Junior \n",
    " \n",
    "Grupo:\n",
    "* Anísio Pereira Batista Filho (apbf@cesar.school)\n",
    "* Carlos Cezar Lopes de Mendonça (cclm@cesar.school)\n",
    "* Rodolpho Victor França Valsconcelos (rvfv@cesar.school)"
   ]
  },
  {
   "cell_type": "code",
   "execution_count": 1,
   "metadata": {},
   "outputs": [],
   "source": [
    "# Importando as bibliotecas necessárias\n",
    "import torch\n",
    "import torch.nn as nn\n",
    "import torch.optim as optim\n",
    "import torch.nn.functional as F\n",
    "from torch.utils.data import Dataset, DataLoader, Subset\n",
    "import torchvision\n",
    "import torchvision.transforms as transforms\n",
    "import matplotlib.pyplot as plt\n",
    "import numpy as np\n",
    "import pandas as pd\n",
    "from tqdm import tqdm"
   ]
  },
  {
   "cell_type": "code",
   "execution_count": 2,
   "metadata": {},
   "outputs": [
    {
     "name": "stderr",
     "output_type": "stream",
     "text": [
      "'wget' n�o � reconhecido como um comando interno\n",
      "ou externo, um programa oper�vel ou um arquivo em lotes.\n"
     ]
    }
   ],
   "source": [
    "# Download do dataset MNIST into data dir\n",
    "! wget https://pjreddie.com/media/files/mnist_train.csv -P data"
   ]
  },
  {
   "cell_type": "code",
   "execution_count": 3,
   "metadata": {},
   "outputs": [],
   "source": [
    "class MNISTDataset(Dataset):\n",
    "    def __init__(self, csv_file, transform=None):\n",
    "        self.data = pd.read_csv(csv_file, header=None)\n",
    "        self.transform = transform\n",
    "\n",
    "    def __len__(self):\n",
    "        return len(self.data)\n",
    "\n",
    "    def __getitem__(self, idx):\n",
    "        # A primeira coluna é o rótulo\n",
    "        label = self.data.iloc[idx, 0]\n",
    "        # As demais colunas são os pixels da imagem\n",
    "        image = self.data.iloc[idx, 1:].values.astype('uint8').reshape(28, 28)\n",
    "\n",
    "        if self.transform:\n",
    "            image = self.transform(image)\n",
    "\n",
    "        return image, label"
   ]
  },
  {
   "cell_type": "code",
   "execution_count": 4,
   "metadata": {},
   "outputs": [],
   "source": [
    "# Transformação para converter a imagem para tensor\n",
    "transform = transforms.Compose([\n",
    "    transforms.ToTensor(),      # Convertendo a imagem PIL para tensor\n",
    "    transforms.Normalize((0.5,), (0.5,))  # Normalizando a imagem\n",
    "])\n",
    "\n",
    "# Criando o dataset\n",
    "mnist_dataset = MNISTDataset(\"./data/mnist_train.csv\", transform=transform)\n",
    "\n",
    "# Transformação para converter a imagem para tensor\n",
    "transform = transforms.Compose([\n",
    "    transforms.ToPILImage(),    # Convertendo o array numpy para imagem PIL\n",
    "    transforms.ToTensor(),      # Convertendo a imagem PIL para tensor\n",
    "    transforms.Normalize((0.5,), (0.5,))  # Normalizando a imagem\n",
    "])\n",
    "\n",
    "# Criando o dataset\n",
    "mnist_dataset = MNISTDataset(\"./data/mnist_train.csv\", transform=transform)"
   ]
  },
  {
   "cell_type": "code",
   "execution_count": 5,
   "metadata": {},
   "outputs": [],
   "source": [
    "# Criando índices aleatórios para os subsets de treino e teste\n",
    "np.random.seed(42)\n",
    "indices = np.arange(len(mnist_dataset))\n",
    "np.random.shuffle(indices)\n",
    "\n",
    "# Dividindo os índices em trainset e testset\n",
    "num_train = 1000\n",
    "num_val = 500\n",
    "num_test = 500\n",
    "train_indices = indices[:num_train]  # Primeiros 1.000 índices para o trainset\n",
    "val_indices = indices[num_train:num_train+num_val]  # Próximos 500 índices para o valset\n",
    "test_indices = indices[num_train+num_val:num_train+num_val+num_test]  # Mais 500 para o testset\n",
    "\n",
    "trainset = Subset(mnist_dataset, train_indices)\n",
    "valset = Subset(mnist_dataset, val_indices)\n",
    "testset = Subset(mnist_dataset, test_indices)\n",
    "\n",
    "# Criando DataLoaders para os subsets\n",
    "trainloader = DataLoader(trainset, batch_size=64, shuffle=True)\n",
    "valloader = DataLoader(valset, batch_size=64, shuffle=False)\n",
    "testloader = DataLoader(testset, batch_size=64, shuffle=False)"
   ]
  },
  {
   "cell_type": "code",
   "execution_count": 6,
   "metadata": {},
   "outputs": [],
   "source": [
    "def train_model(model, trainloader, valloader, criterion, optimizer, num_epochs=5):\n",
    "    history = {\n",
    "        'train_losses': [],\n",
    "        'val_losses': [],\n",
    "        'train_accuracies': [],\n",
    "        'val_accuracies': []\n",
    "    }\n",
    "    \n",
    "    for epoch in range(num_epochs):\n",
    "        # Treinamento\n",
    "        model.train()\n",
    "        running_loss = 0.0\n",
    "        correct = 0\n",
    "        total = 0\n",
    "        for i, data in tqdm(enumerate(trainloader, 0), total=len(trainloader)):\n",
    "            inputs, labels = data\n",
    "\n",
    "            optimizer.zero_grad()\n",
    "\n",
    "            outputs = model(inputs)\n",
    "            loss = criterion(outputs, labels)\n",
    "            loss.backward()\n",
    "            optimizer.step()\n",
    "\n",
    "            running_loss += loss.item()\n",
    "            _, predicted = torch.max(outputs.data, 1)\n",
    "            total += labels.size(0)\n",
    "            correct += (predicted == labels).sum().item()\n",
    "\n",
    "        train_loss = running_loss / len(trainloader)\n",
    "        train_acc = 100 * correct / total\n",
    "        history['train_losses'].append(train_loss)\n",
    "        history['train_accuracies'].append(train_acc)\n",
    "        print(f'Epoch {epoch+1}, Train Loss: {train_loss:.3f}, Train Accuracy: {train_acc:.2f}%')\n",
    "        \n",
    "        # Validação\n",
    "        model.eval()\n",
    "        val_running_loss = 0.0\n",
    "        correct = 0\n",
    "        total = 0\n",
    "        with torch.no_grad():\n",
    "            for data in valloader:\n",
    "                inputs, labels = data\n",
    "                outputs = model(inputs)\n",
    "                loss = criterion(outputs, labels)\n",
    "                val_running_loss += loss.item()\n",
    "                _, predicted = torch.max(outputs.data, 1)\n",
    "                total += labels.size(0)\n",
    "                correct += (predicted == labels).sum().item()\n",
    "\n",
    "        val_loss = val_running_loss / len(valloader)\n",
    "        val_acc = 100 * correct / total\n",
    "        history['val_losses'].append(val_loss)\n",
    "        history['val_accuracies'].append(val_acc)\n",
    "        print(f'Epoch {epoch+1}, Val Loss: {val_loss:.3f}, Val Accuracy: {val_acc:.2f}%')\n",
    "\n",
    "    print('Treinamento concluído')\n",
    "    return history\n",
    "\n",
    "\n",
    "def test_model(model, testloader):\n",
    "    correct = 0\n",
    "    total = 0\n",
    "    with torch.no_grad():\n",
    "        for data in testloader:\n",
    "            images, labels = data\n",
    "            outputs = model(images)\n",
    "            _, predicted = torch.max(outputs.data, 1)\n",
    "            total += labels.size(0)\n",
    "            correct += (predicted == labels).sum().item()\n",
    "\n",
    "    print(f'Acurácia da rede na base de teste: {100 * correct / total:.2f}%')"
   ]
  },
  {
   "cell_type": "code",
   "execution_count": 7,
   "metadata": {},
   "outputs": [],
   "source": [
    "class CNN(nn.Module):\n",
    "    def __init__(self, initialize_weights=True, dropout=0.2):\n",
    "        super(CNN, self).__init__()\n",
    "        self.conv1 = nn.Conv2d(1, 6, 5)\n",
    "        self.conv2 = nn.Conv2d(6, 12, 5)\n",
    "        self.fc1 = nn.Linear(12 * 4 * 4, 64)\n",
    "        self.fc2 = nn.Linear(64, 10)\n",
    "        self.dropout = nn.Dropout(dropout)\n",
    "\n",
    "        if initialize_weights:\n",
    "            self._initialize_weights()\n",
    "\n",
    "    def forward(self, x):\n",
    "        # CNN\n",
    "        x = F.relu(self.conv1(x))\n",
    "        x = F.max_pool2d(x, 2, 2)\n",
    "        x = F.relu(self.conv2(x))\n",
    "        x = F.max_pool2d(x, 2, 2)\n",
    "\n",
    "        # Flatten\n",
    "        x = x.view(-1, 12 * 4 * 4)\n",
    "        x = self.dropout(F.relu(self.fc1(x)))\n",
    "        x = self.fc2(x)\n",
    "\n",
    "        return x\n",
    "\n",
    "    def _initialize_weights(self):\n",
    "        for m in self.modules():\n",
    "            if isinstance(m, nn.Conv2d) or isinstance(m, nn.Linear):\n",
    "                nn.init.xavier_normal_(m.weight)\n",
    "                if m.bias is not None:\n",
    "                    nn.init.constant_(m.bias, 0)"
   ]
  },
  {
   "cell_type": "code",
   "execution_count": 8,
   "metadata": {},
   "outputs": [],
   "source": [
    "model = CNN(\n",
    "    initialize_weights=True,\n",
    "    dropout=0.2\n",
    ")"
   ]
  },
  {
   "cell_type": "code",
   "execution_count": 9,
   "metadata": {},
   "outputs": [],
   "source": [
    "criterion = nn.CrossEntropyLoss()\n",
    "optimizer = optim.SGD(model.parameters(), lr=0.01, momentum=0.9)"
   ]
  },
  {
   "cell_type": "code",
   "execution_count": 10,
   "metadata": {},
   "outputs": [
    {
     "name": "stderr",
     "output_type": "stream",
     "text": [
      "100%|██████████| 16/16 [00:03<00:00,  4.26it/s]\n"
     ]
    },
    {
     "name": "stdout",
     "output_type": "stream",
     "text": [
      "Epoch 1, Train Loss: 2.297, Train Accuracy: 15.00%\n",
      "Epoch 1, Val Loss: 2.222, Val Accuracy: 27.20%\n"
     ]
    },
    {
     "name": "stderr",
     "output_type": "stream",
     "text": [
      "100%|██████████| 16/16 [00:02<00:00,  6.55it/s]\n"
     ]
    },
    {
     "name": "stdout",
     "output_type": "stream",
     "text": [
      "Epoch 2, Train Loss: 2.107, Train Accuracy: 29.80%\n",
      "Epoch 2, Val Loss: 1.867, Val Accuracy: 46.00%\n"
     ]
    },
    {
     "name": "stderr",
     "output_type": "stream",
     "text": [
      "100%|██████████| 16/16 [00:02<00:00,  5.81it/s]\n"
     ]
    },
    {
     "name": "stdout",
     "output_type": "stream",
     "text": [
      "Epoch 3, Train Loss: 1.574, Train Accuracy: 50.50%\n",
      "Epoch 3, Val Loss: 1.017, Val Accuracy: 69.80%\n"
     ]
    },
    {
     "name": "stderr",
     "output_type": "stream",
     "text": [
      "100%|██████████| 16/16 [00:02<00:00,  7.09it/s]\n"
     ]
    },
    {
     "name": "stdout",
     "output_type": "stream",
     "text": [
      "Epoch 4, Train Loss: 0.944, Train Accuracy: 70.30%\n",
      "Epoch 4, Val Loss: 0.584, Val Accuracy: 81.00%\n"
     ]
    },
    {
     "name": "stderr",
     "output_type": "stream",
     "text": [
      "100%|██████████| 16/16 [00:02<00:00,  6.30it/s]\n"
     ]
    },
    {
     "name": "stdout",
     "output_type": "stream",
     "text": [
      "Epoch 5, Train Loss: 0.631, Train Accuracy: 78.70%\n",
      "Epoch 5, Val Loss: 0.504, Val Accuracy: 85.00%\n",
      "Treinamento concluído\n"
     ]
    }
   ],
   "source": [
    "# Treinando a CNN\n",
    "history = train_model(\n",
    "    model=model,\n",
    "    trainloader=trainloader,\n",
    "    valloader=valloader,\n",
    "    criterion=criterion,\n",
    "    optimizer=optimizer\n",
    ")"
   ]
  },
  {
   "cell_type": "code",
   "execution_count": 11,
   "metadata": {},
   "outputs": [
    {
     "data": {
      "image/png": "[encoded data removed]",
      "text/plain": [
       "<Figure size 1200x500 with 2 Axes>"
      ]
     },
     "metadata": {},
     "output_type": "display_data"
    }
   ],
   "source": [
    "epochs = range(1, len(history['train_losses']) + 1)\n",
    "    \n",
    "# Plot de losses\n",
    "plt.figure(figsize=(12, 5))\n",
    "\n",
    "plt.subplot(1, 2, 1)\n",
    "plt.grid()\n",
    "plt.plot(epochs, history['train_losses'], label='Train Loss')\n",
    "plt.plot(epochs, history['val_losses'], label='Validation Loss')\n",
    "plt.xlabel('Epochs')\n",
    "plt.ylabel('Loss')\n",
    "plt.title('Training and Validation Loss')\n",
    "plt.legend()\n",
    "\n",
    "# Plot de accuracies\n",
    "plt.subplot(1, 2, 2)\n",
    "plt.grid()\n",
    "plt.plot(epochs, history['train_accuracies'], label='Train Accuracy')\n",
    "plt.plot(epochs, history['val_accuracies'], label='Validation Accuracy')\n",
    "plt.xlabel('Epochs')\n",
    "plt.ylabel('Accuracy')\n",
    "plt.title('Training and Validation Accuracy')\n",
    "plt.legend()\n",
    "\n",
    "plt.tight_layout()\n",
    "plt.show()"
   ]
  },
  {
   "cell_type": "code",
   "execution_count": 12,
   "metadata": {},
   "outputs": [
    {
     "name": "stdout",
     "output_type": "stream",
     "text": [
      "Acurácia da rede na base de teste: 82.80%\n"
     ]
    }
   ],
   "source": [
    "test_model(model, testloader)"
   ]
  },
  {
   "cell_type": "markdown",
   "metadata": {},
   "source": [
    "## Exercícios"
   ]
  },
  {
   "cell_type": "markdown",
   "metadata": {},
   "source": [
    "### Exercício 1\n",
    "Na CNN implementada, execute experimentos variando:\n",
    "- O número de filtros convolucionais em `self.conv1` (6 e 8)\n",
    "- O número de filtros convolucionais em `self.conv2` (12 e 16)\n",
    "\n",
    "Ao final, observe qual combinação desempenha melhor no conjunto de testes.\n",
    "\n",
    "Dica: Adicionar argumentos no construtor da classe para determinar o número de filtros em cada camada pode ser útil para inicializar diversos modelos."
   ]
  },
  {
   "cell_type": "code",
   "execution_count": 13,
   "metadata": {},
   "outputs": [
    {
     "name": "stdout",
     "output_type": "stream",
     "text": [
      "Treinamento com 6 filtros na primeira camada e 12 filtros na segunda camada\n"
     ]
    },
    {
     "name": "stderr",
     "output_type": "stream",
     "text": [
      "100%|██████████| 16/16 [00:02<00:00,  6.73it/s]\n"
     ]
    },
    {
     "name": "stdout",
     "output_type": "stream",
     "text": [
      "Epoch 1, Train Loss: 2.286, Train Accuracy: 14.30%\n",
      "Epoch 1, Val Loss: 2.194, Val Accuracy: 26.80%\n"
     ]
    },
    {
     "name": "stderr",
     "output_type": "stream",
     "text": [
      "100%|██████████| 16/16 [00:02<00:00,  5.82it/s]\n"
     ]
    },
    {
     "name": "stdout",
     "output_type": "stream",
     "text": [
      "Epoch 2, Train Loss: 1.989, Train Accuracy: 36.70%\n",
      "Epoch 2, Val Loss: 1.600, Val Accuracy: 51.40%\n"
     ]
    },
    {
     "name": "stderr",
     "output_type": "stream",
     "text": [
      "100%|██████████| 16/16 [00:03<00:00,  4.83it/s]\n"
     ]
    },
    {
     "name": "stdout",
     "output_type": "stream",
     "text": [
      "Epoch 3, Train Loss: 1.211, Train Accuracy: 62.70%\n",
      "Epoch 3, Val Loss: 0.783, Val Accuracy: 74.00%\n"
     ]
    },
    {
     "name": "stderr",
     "output_type": "stream",
     "text": [
      "100%|██████████| 16/16 [00:03<00:00,  4.26it/s]\n"
     ]
    },
    {
     "name": "stdout",
     "output_type": "stream",
     "text": [
      "Epoch 4, Train Loss: 0.684, Train Accuracy: 77.40%\n",
      "Epoch 4, Val Loss: 0.588, Val Accuracy: 81.60%\n"
     ]
    },
    {
     "name": "stderr",
     "output_type": "stream",
     "text": [
      "100%|██████████| 16/16 [00:03<00:00,  5.01it/s]\n"
     ]
    },
    {
     "name": "stdout",
     "output_type": "stream",
     "text": [
      "Epoch 5, Train Loss: 0.448, Train Accuracy: 84.30%\n",
      "Epoch 5, Val Loss: 0.450, Val Accuracy: 85.40%\n",
      "Treinamento concluído\n",
      "Acurácia da rede na base de teste: 88.20%\n",
      "Treinamento com 6 filtros na primeira camada e 16 filtros na segunda camada\n"
     ]
    },
    {
     "name": "stderr",
     "output_type": "stream",
     "text": [
      "100%|██████████| 16/16 [00:03<00:00,  4.07it/s]\n"
     ]
    },
    {
     "name": "stdout",
     "output_type": "stream",
     "text": [
      "Epoch 1, Train Loss: 2.228, Train Accuracy: 19.40%\n",
      "Epoch 1, Val Loss: 1.995, Val Accuracy: 46.20%\n"
     ]
    },
    {
     "name": "stderr",
     "output_type": "stream",
     "text": [
      "100%|██████████| 16/16 [00:02<00:00,  5.63it/s]\n"
     ]
    },
    {
     "name": "stdout",
     "output_type": "stream",
     "text": [
      "Epoch 2, Train Loss: 1.590, Train Accuracy: 49.80%\n",
      "Epoch 2, Val Loss: 1.023, Val Accuracy: 69.20%\n"
     ]
    },
    {
     "name": "stderr",
     "output_type": "stream",
     "text": [
      "100%|██████████| 16/16 [00:02<00:00,  5.80it/s]\n"
     ]
    },
    {
     "name": "stdout",
     "output_type": "stream",
     "text": [
      "Epoch 3, Train Loss: 0.894, Train Accuracy: 70.00%\n",
      "Epoch 3, Val Loss: 0.615, Val Accuracy: 80.80%\n"
     ]
    },
    {
     "name": "stderr",
     "output_type": "stream",
     "text": [
      "100%|██████████| 16/16 [00:04<00:00,  3.97it/s]\n"
     ]
    },
    {
     "name": "stdout",
     "output_type": "stream",
     "text": [
      "Epoch 4, Train Loss: 0.559, Train Accuracy: 81.90%\n",
      "Epoch 4, Val Loss: 0.466, Val Accuracy: 86.40%\n"
     ]
    },
    {
     "name": "stderr",
     "output_type": "stream",
     "text": [
      "100%|██████████| 16/16 [00:04<00:00,  3.75it/s]\n"
     ]
    },
    {
     "name": "stdout",
     "output_type": "stream",
     "text": [
      "Epoch 5, Train Loss: 0.426, Train Accuracy: 86.00%\n",
      "Epoch 5, Val Loss: 0.375, Val Accuracy: 88.20%\n",
      "Treinamento concluído\n",
      "Acurácia da rede na base de teste: 91.80%\n",
      "Treinamento com 8 filtros na primeira camada e 12 filtros na segunda camada\n"
     ]
    },
    {
     "name": "stderr",
     "output_type": "stream",
     "text": [
      "100%|██████████| 16/16 [00:03<00:00,  5.05it/s]\n"
     ]
    },
    {
     "name": "stdout",
     "output_type": "stream",
     "text": [
      "Epoch 1, Train Loss: 2.268, Train Accuracy: 16.50%\n",
      "Epoch 1, Val Loss: 2.187, Val Accuracy: 27.80%\n"
     ]
    },
    {
     "name": "stderr",
     "output_type": "stream",
     "text": [
      "100%|██████████| 16/16 [00:04<00:00,  3.47it/s]\n"
     ]
    },
    {
     "name": "stdout",
     "output_type": "stream",
     "text": [
      "Epoch 2, Train Loss: 1.979, Train Accuracy: 35.00%\n",
      "Epoch 2, Val Loss: 1.655, Val Accuracy: 48.20%\n"
     ]
    },
    {
     "name": "stderr",
     "output_type": "stream",
     "text": [
      "100%|██████████| 16/16 [00:03<00:00,  4.68it/s]\n"
     ]
    },
    {
     "name": "stdout",
     "output_type": "stream",
     "text": [
      "Epoch 3, Train Loss: 1.293, Train Accuracy: 58.50%\n",
      "Epoch 3, Val Loss: 0.841, Val Accuracy: 74.20%\n"
     ]
    },
    {
     "name": "stderr",
     "output_type": "stream",
     "text": [
      "100%|██████████| 16/16 [00:03<00:00,  4.55it/s]\n"
     ]
    },
    {
     "name": "stdout",
     "output_type": "stream",
     "text": [
      "Epoch 4, Train Loss: 0.676, Train Accuracy: 77.80%\n",
      "Epoch 4, Val Loss: 0.515, Val Accuracy: 84.00%\n"
     ]
    },
    {
     "name": "stderr",
     "output_type": "stream",
     "text": [
      "100%|██████████| 16/16 [00:02<00:00,  5.47it/s]\n"
     ]
    },
    {
     "name": "stdout",
     "output_type": "stream",
     "text": [
      "Epoch 5, Train Loss: 0.479, Train Accuracy: 84.30%\n",
      "Epoch 5, Val Loss: 0.392, Val Accuracy: 89.00%\n",
      "Treinamento concluído\n",
      "Acurácia da rede na base de teste: 87.40%\n",
      "Treinamento com 8 filtros na primeira camada e 16 filtros na segunda camada\n"
     ]
    },
    {
     "name": "stderr",
     "output_type": "stream",
     "text": [
      "100%|██████████| 16/16 [00:02<00:00,  7.53it/s]\n"
     ]
    },
    {
     "name": "stdout",
     "output_type": "stream",
     "text": [
      "Epoch 1, Train Loss: 2.197, Train Accuracy: 22.40%\n",
      "Epoch 1, Val Loss: 2.030, Val Accuracy: 33.00%\n"
     ]
    },
    {
     "name": "stderr",
     "output_type": "stream",
     "text": [
      "100%|██████████| 16/16 [00:01<00:00,  8.48it/s]\n"
     ]
    },
    {
     "name": "stdout",
     "output_type": "stream",
     "text": [
      "Epoch 2, Train Loss: 1.693, Train Accuracy: 48.50%\n",
      "Epoch 2, Val Loss: 1.214, Val Accuracy: 63.60%\n"
     ]
    },
    {
     "name": "stderr",
     "output_type": "stream",
     "text": [
      "100%|██████████| 16/16 [00:02<00:00,  6.04it/s]\n"
     ]
    },
    {
     "name": "stdout",
     "output_type": "stream",
     "text": [
      "Epoch 3, Train Loss: 0.926, Train Accuracy: 69.50%\n",
      "Epoch 3, Val Loss: 0.771, Val Accuracy: 76.60%\n"
     ]
    },
    {
     "name": "stderr",
     "output_type": "stream",
     "text": [
      "100%|██████████| 16/16 [00:03<00:00,  4.27it/s]\n"
     ]
    },
    {
     "name": "stdout",
     "output_type": "stream",
     "text": [
      "Epoch 4, Train Loss: 0.573, Train Accuracy: 81.60%\n",
      "Epoch 4, Val Loss: 0.453, Val Accuracy: 86.80%\n"
     ]
    },
    {
     "name": "stderr",
     "output_type": "stream",
     "text": [
      "100%|██████████| 16/16 [00:03<00:00,  4.37it/s]\n"
     ]
    },
    {
     "name": "stdout",
     "output_type": "stream",
     "text": [
      "Epoch 5, Train Loss: 0.350, Train Accuracy: 88.50%\n",
      "Epoch 5, Val Loss: 0.349, Val Accuracy: 88.40%\n",
      "Treinamento concluído\n",
      "Acurácia da rede na base de teste: 93.00%\n"
     ]
    }
   ],
   "source": [
    "class CNN_2(nn.Module):\n",
    "    def __init__(self, initialize_weights=True, dropout=0.2, num_filters_1=6, num_filters_2=12, num_hidden=64):\n",
    "        super(CNN_2, self).__init__()\n",
    "        self.num_filters_2 = num_filters_2\n",
    "        self.conv1 = nn.Conv2d(1, num_filters_1, 5)\n",
    "        self.conv2 = nn.Conv2d(num_filters_1, num_filters_2, 5)\n",
    "        self.fc1 = nn.Linear(num_filters_2 * 4 * 4, num_hidden)\n",
    "        self.fc2 = nn.Linear(num_hidden, 10)\n",
    "        self.dropout = nn.Dropout(dropout)\n",
    "\n",
    "        if initialize_weights:\n",
    "            self._initialize_weights()\n",
    "\n",
    "    def forward(self, x):\n",
    "        # CNN\n",
    "        x = F.relu(self.conv1(x))\n",
    "        x = F.max_pool2d(x, 2, 2)\n",
    "        x = F.relu(self.conv2(x))\n",
    "        x = F.max_pool2d(x, 2, 2)\n",
    "\n",
    "        # Flatten\n",
    "        x = x.view(-1, self.num_filters_2 * 4 * 4)\n",
    "        x = self.dropout(F.relu(self.fc1(x)))\n",
    "        x = self.fc2(x)\n",
    "\n",
    "        return x\n",
    "\n",
    "    def _initialize_weights(self):\n",
    "        for m in self.modules():\n",
    "            if isinstance(m, nn.Conv2d) or isinstance(m, nn.Linear):\n",
    "                nn.init.xavier_normal_(m.weight)\n",
    "                if m.bias is not None:\n",
    "                    nn.init.constant_(m.bias, 0)\n",
    "\n",
    "parameters_combinations = [(6,12), (6,16), (8,12), (8,16)]\n",
    "\n",
    "for num_filters_1, num_filters_2 in parameters_combinations:\n",
    "  print(f'Treinamento com {num_filters_1} filtros na primeira camada e {num_filters_2} filtros na segunda camada')\n",
    "  model = CNN_2(\n",
    "      initialize_weights = True,\n",
    "      dropout=0.1,\n",
    "      num_filters_1 = num_filters_1,\n",
    "      num_filters_2 = num_filters_2\n",
    "  )\n",
    "\n",
    "  criterion = nn.CrossEntropyLoss()\n",
    "  optimizer = optim.SGD(model.parameters(), lr=0.01, momentum=0.9)\n",
    "\n",
    "  history = train_model(\n",
    "    model=model,\n",
    "    trainloader=trainloader,\n",
    "    valloader=valloader,\n",
    "    criterion=criterion,\n",
    "    optimizer=optimizer\n",
    "  )\n",
    "\n",
    "  test_model(model, testloader)"
   ]
  },
  {
   "cell_type": "markdown",
   "metadata": {},
   "source": [
    "### Exercício 2\n",
    "\n",
    "Na CNN implementada, execute 5 treinamentos variando aleatoriamente o número de neurônios de saída em `self.fc1` (o valor atual é 64 e também deve ser alterado na entrada da próxima camada).\n",
    "\n",
    "Como você determinaria qual foi o melhor valor?"
   ]
  },
  {
   "cell_type": "code",
   "execution_count": 14,
   "metadata": {},
   "outputs": [
    {
     "name": "stderr",
     "output_type": "stream",
     "text": [
      "  0%|          | 0/16 [00:00<?, ?it/s]"
     ]
    },
    {
     "name": "stderr",
     "output_type": "stream",
     "text": [
      "100%|██████████| 16/16 [00:02<00:00,  6.07it/s]\n"
     ]
    },
    {
     "name": "stdout",
     "output_type": "stream",
     "text": [
      "Epoch 1, Train Loss: 2.288, Train Accuracy: 12.20%\n",
      "Epoch 1, Val Loss: 2.194, Val Accuracy: 24.20%\n"
     ]
    },
    {
     "name": "stderr",
     "output_type": "stream",
     "text": [
      "100%|██████████| 16/16 [00:03<00:00,  5.25it/s]\n"
     ]
    },
    {
     "name": "stdout",
     "output_type": "stream",
     "text": [
      "Epoch 2, Train Loss: 2.023, Train Accuracy: 33.10%\n",
      "Epoch 2, Val Loss: 1.706, Val Accuracy: 52.80%\n"
     ]
    },
    {
     "name": "stderr",
     "output_type": "stream",
     "text": [
      "100%|██████████| 16/16 [00:02<00:00,  6.39it/s]\n"
     ]
    },
    {
     "name": "stdout",
     "output_type": "stream",
     "text": [
      "Epoch 3, Train Loss: 1.306, Train Accuracy: 59.20%\n",
      "Epoch 3, Val Loss: 0.811, Val Accuracy: 75.20%\n"
     ]
    },
    {
     "name": "stderr",
     "output_type": "stream",
     "text": [
      "100%|██████████| 16/16 [00:03<00:00,  5.04it/s]\n"
     ]
    },
    {
     "name": "stdout",
     "output_type": "stream",
     "text": [
      "Epoch 4, Train Loss: 0.784, Train Accuracy: 73.20%\n",
      "Epoch 4, Val Loss: 0.485, Val Accuracy: 87.20%\n"
     ]
    },
    {
     "name": "stderr",
     "output_type": "stream",
     "text": [
      "100%|██████████| 16/16 [00:02<00:00,  6.60it/s]\n"
     ]
    },
    {
     "name": "stdout",
     "output_type": "stream",
     "text": [
      "Epoch 5, Train Loss: 0.553, Train Accuracy: 81.40%\n",
      "Epoch 5, Val Loss: 0.422, Val Accuracy: 87.00%\n",
      "Treinamento concluído\n",
      "Número de neurônios na camada fully connected: 55\n",
      "Acurácia da rede na base de teste: 87.80%\n",
      "\n"
     ]
    },
    {
     "name": "stderr",
     "output_type": "stream",
     "text": [
      "100%|██████████| 16/16 [00:02<00:00,  5.72it/s]\n"
     ]
    },
    {
     "name": "stdout",
     "output_type": "stream",
     "text": [
      "Epoch 1, Train Loss: 2.289, Train Accuracy: 17.10%\n",
      "Epoch 1, Val Loss: 2.187, Val Accuracy: 34.00%\n"
     ]
    },
    {
     "name": "stderr",
     "output_type": "stream",
     "text": [
      "100%|██████████| 16/16 [00:06<00:00,  2.64it/s]\n"
     ]
    },
    {
     "name": "stdout",
     "output_type": "stream",
     "text": [
      "Epoch 2, Train Loss: 1.991, Train Accuracy: 36.10%\n",
      "Epoch 2, Val Loss: 1.664, Val Accuracy: 48.00%\n"
     ]
    },
    {
     "name": "stderr",
     "output_type": "stream",
     "text": [
      "100%|██████████| 16/16 [00:03<00:00,  4.14it/s]\n"
     ]
    },
    {
     "name": "stdout",
     "output_type": "stream",
     "text": [
      "Epoch 3, Train Loss: 1.313, Train Accuracy: 54.10%\n",
      "Epoch 3, Val Loss: 0.922, Val Accuracy: 70.00%\n"
     ]
    },
    {
     "name": "stderr",
     "output_type": "stream",
     "text": [
      "100%|██████████| 16/16 [00:03<00:00,  4.96it/s]\n"
     ]
    },
    {
     "name": "stdout",
     "output_type": "stream",
     "text": [
      "Epoch 4, Train Loss: 0.826, Train Accuracy: 72.20%\n",
      "Epoch 4, Val Loss: 0.633, Val Accuracy: 79.00%\n"
     ]
    },
    {
     "name": "stderr",
     "output_type": "stream",
     "text": [
      "100%|██████████| 16/16 [00:02<00:00,  6.19it/s]\n"
     ]
    },
    {
     "name": "stdout",
     "output_type": "stream",
     "text": [
      "Epoch 5, Train Loss: 0.590, Train Accuracy: 80.30%\n",
      "Epoch 5, Val Loss: 0.525, Val Accuracy: 81.80%\n",
      "Treinamento concluído\n",
      "Número de neurônios na camada fully connected: 78\n",
      "Acurácia da rede na base de teste: 85.80%\n",
      "\n"
     ]
    },
    {
     "name": "stderr",
     "output_type": "stream",
     "text": [
      "100%|██████████| 16/16 [00:02<00:00,  5.79it/s]\n"
     ]
    },
    {
     "name": "stdout",
     "output_type": "stream",
     "text": [
      "Epoch 1, Train Loss: 2.280, Train Accuracy: 18.70%\n",
      "Epoch 1, Val Loss: 2.177, Val Accuracy: 29.00%\n"
     ]
    },
    {
     "name": "stderr",
     "output_type": "stream",
     "text": [
      "100%|██████████| 16/16 [00:02<00:00,  6.32it/s]\n"
     ]
    },
    {
     "name": "stdout",
     "output_type": "stream",
     "text": [
      "Epoch 2, Train Loss: 1.997, Train Accuracy: 34.10%\n",
      "Epoch 2, Val Loss: 1.588, Val Accuracy: 54.20%\n"
     ]
    },
    {
     "name": "stderr",
     "output_type": "stream",
     "text": [
      "100%|██████████| 16/16 [00:02<00:00,  6.38it/s]\n"
     ]
    },
    {
     "name": "stdout",
     "output_type": "stream",
     "text": [
      "Epoch 3, Train Loss: 1.257, Train Accuracy: 59.40%\n",
      "Epoch 3, Val Loss: 0.741, Val Accuracy: 76.40%\n"
     ]
    },
    {
     "name": "stderr",
     "output_type": "stream",
     "text": [
      "100%|██████████| 16/16 [00:02<00:00,  6.47it/s]\n"
     ]
    },
    {
     "name": "stdout",
     "output_type": "stream",
     "text": [
      "Epoch 4, Train Loss: 0.743, Train Accuracy: 75.90%\n",
      "Epoch 4, Val Loss: 0.503, Val Accuracy: 84.40%\n"
     ]
    },
    {
     "name": "stderr",
     "output_type": "stream",
     "text": [
      "100%|██████████| 16/16 [00:02<00:00,  6.65it/s]\n"
     ]
    },
    {
     "name": "stdout",
     "output_type": "stream",
     "text": [
      "Epoch 5, Train Loss: 0.474, Train Accuracy: 84.80%\n",
      "Epoch 5, Val Loss: 0.406, Val Accuracy: 87.60%\n",
      "Treinamento concluído\n",
      "Número de neurônios na camada fully connected: 90\n",
      "Acurácia da rede na base de teste: 89.20%\n",
      "\n"
     ]
    },
    {
     "name": "stderr",
     "output_type": "stream",
     "text": [
      "100%|██████████| 16/16 [00:02<00:00,  7.55it/s]\n"
     ]
    },
    {
     "name": "stdout",
     "output_type": "stream",
     "text": [
      "Epoch 1, Train Loss: 2.269, Train Accuracy: 11.90%\n",
      "Epoch 1, Val Loss: 2.190, Val Accuracy: 23.20%\n"
     ]
    },
    {
     "name": "stderr",
     "output_type": "stream",
     "text": [
      "100%|██████████| 16/16 [00:02<00:00,  7.50it/s]\n"
     ]
    },
    {
     "name": "stdout",
     "output_type": "stream",
     "text": [
      "Epoch 2, Train Loss: 1.996, Train Accuracy: 37.50%\n",
      "Epoch 2, Val Loss: 1.611, Val Accuracy: 55.60%\n"
     ]
    },
    {
     "name": "stderr",
     "output_type": "stream",
     "text": [
      "100%|██████████| 16/16 [00:02<00:00,  7.61it/s]\n"
     ]
    },
    {
     "name": "stdout",
     "output_type": "stream",
     "text": [
      "Epoch 3, Train Loss: 1.246, Train Accuracy: 58.80%\n",
      "Epoch 3, Val Loss: 0.847, Val Accuracy: 71.20%\n"
     ]
    },
    {
     "name": "stderr",
     "output_type": "stream",
     "text": [
      "100%|██████████| 16/16 [00:02<00:00,  7.67it/s]\n"
     ]
    },
    {
     "name": "stdout",
     "output_type": "stream",
     "text": [
      "Epoch 4, Train Loss: 0.767, Train Accuracy: 74.90%\n",
      "Epoch 4, Val Loss: 0.559, Val Accuracy: 83.00%\n"
     ]
    },
    {
     "name": "stderr",
     "output_type": "stream",
     "text": [
      "100%|██████████| 16/16 [00:02<00:00,  7.94it/s]\n"
     ]
    },
    {
     "name": "stdout",
     "output_type": "stream",
     "text": [
      "Epoch 5, Train Loss: 0.571, Train Accuracy: 81.90%\n",
      "Epoch 5, Val Loss: 0.498, Val Accuracy: 84.00%\n",
      "Treinamento concluído\n",
      "Número de neurônios na camada fully connected: 61\n",
      "Acurácia da rede na base de teste: 88.60%\n",
      "\n"
     ]
    },
    {
     "name": "stderr",
     "output_type": "stream",
     "text": [
      "100%|██████████| 16/16 [00:02<00:00,  6.15it/s]\n"
     ]
    },
    {
     "name": "stdout",
     "output_type": "stream",
     "text": [
      "Epoch 1, Train Loss: 2.281, Train Accuracy: 15.20%\n",
      "Epoch 1, Val Loss: 2.204, Val Accuracy: 26.80%\n"
     ]
    },
    {
     "name": "stderr",
     "output_type": "stream",
     "text": [
      "100%|██████████| 16/16 [00:02<00:00,  6.00it/s]\n"
     ]
    },
    {
     "name": "stdout",
     "output_type": "stream",
     "text": [
      "Epoch 2, Train Loss: 2.067, Train Accuracy: 29.50%\n",
      "Epoch 2, Val Loss: 1.844, Val Accuracy: 38.80%\n"
     ]
    },
    {
     "name": "stderr",
     "output_type": "stream",
     "text": [
      "100%|██████████| 16/16 [00:02<00:00,  6.01it/s]\n"
     ]
    },
    {
     "name": "stdout",
     "output_type": "stream",
     "text": [
      "Epoch 3, Train Loss: 1.627, Train Accuracy: 40.70%\n",
      "Epoch 3, Val Loss: 1.148, Val Accuracy: 59.60%\n"
     ]
    },
    {
     "name": "stderr",
     "output_type": "stream",
     "text": [
      "100%|██████████| 16/16 [00:02<00:00,  5.64it/s]\n"
     ]
    },
    {
     "name": "stdout",
     "output_type": "stream",
     "text": [
      "Epoch 4, Train Loss: 1.108, Train Accuracy: 60.30%\n",
      "Epoch 4, Val Loss: 0.733, Val Accuracy: 78.60%\n"
     ]
    },
    {
     "name": "stderr",
     "output_type": "stream",
     "text": [
      "100%|██████████| 16/16 [00:02<00:00,  6.33it/s]\n"
     ]
    },
    {
     "name": "stdout",
     "output_type": "stream",
     "text": [
      "Epoch 5, Train Loss: 0.857, Train Accuracy: 69.10%\n",
      "Epoch 5, Val Loss: 0.561, Val Accuracy: 83.20%\n",
      "Treinamento concluído\n",
      "Número de neurônios na camada fully connected: 20\n",
      "Acurácia da rede na base de teste: 83.60%\n",
      "\n"
     ]
    }
   ],
   "source": [
    "for i in range(5):\n",
    "  num_hidden = np.random.randint(10, 100)\n",
    "  model = CNN_2(num_hidden=num_hidden)\n",
    "  criterion = nn.CrossEntropyLoss()\n",
    "  optimizer = optim.SGD(model.parameters(), lr=0.01, momentum=0.9)\n",
    "  history = train_model(\n",
    "    model=model,\n",
    "    trainloader=trainloader,\n",
    "    valloader=valloader,\n",
    "    criterion=criterion,\n",
    "    optimizer=optimizer\n",
    "  )\n",
    "\n",
    "  print(f'Número de neurônios na camada fully connected: {num_hidden}')\n",
    "  test_model(model, testloader)\n",
    "  print()"
   ]
  }
 ],
 "metadata": {
  "kernelspec": {
   "display_name": "base",
   "language": "python",
   "name": "python3"
  },
  "language_info": {
   "codemirror_mode": {
    "name": "ipython",
    "version": 3
   },
   "file_extension": ".py",
   "mimetype": "text/x-python",
   "name": "python",
   "nbconvert_exporter": "python",
   "pygments_lexer": "ipython3",
   "version": "3.10.14"
  }
 },
 "nbformat": 4,
 "nbformat_minor": 2
}
